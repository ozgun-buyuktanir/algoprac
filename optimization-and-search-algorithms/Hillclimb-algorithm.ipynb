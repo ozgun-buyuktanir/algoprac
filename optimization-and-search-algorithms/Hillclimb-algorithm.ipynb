{
 "cells": [
  {
   "cell_type": "markdown",
   "metadata": {},
   "source": [
    "**Simple Hillclimb**"
   ]
  },
  {
   "cell_type": "code",
   "execution_count": 2,
   "metadata": {},
   "outputs": [
    {
     "name": "stdout",
     "output_type": "stream",
     "text": [
      "F\n"
     ]
    }
   ],
   "source": [
    "adj_dict = { \"A\":[\"B\",\"C\"], \"B\":[\"D\",\"E\"],  \"C\":[\"F\",\"G\"],  \"D\":[\"H\"], \"E\":[\"I\"], \"F\":[], \"G\":[], \"H\":[], \"I\":[]}\n",
    "node_val = {\"A\":25, \"B\":24, \"C\":30, \"D\":28, \"E\":29, \"F\":40, \"G\":35,\"H\":39, \"I\":51}\n",
    "\n",
    "def hillclimb(adj_dict, node_val, i_state):\n",
    "    current = i_state \n",
    "\n",
    "    for i in range(len(adj_dict[i_state])):\n",
    "        y = adj_dict[i_state][i]\n",
    "\n",
    "        if node_val[y] >= node_val[current]:\n",
    "            current = y\n",
    "    if adj_dict[current] == []:\n",
    "        return current\n",
    "    else:\n",
    "        return hillclimb(adj_dict, node_val, current)\n",
    "\n",
    "print(hillclimb(adj_dict, node_val, \"A\"))"
   ]
  },
  {
   "cell_type": "markdown",
   "metadata": {},
   "source": [
    "**Simple Hillclimb with goal check**"
   ]
  },
  {
   "cell_type": "code",
   "execution_count": 6,
   "metadata": {},
   "outputs": [
    {
     "name": "stdout",
     "output_type": "stream",
     "text": [
      "Current node in loop: A\n",
      "Current node in loop: B\n",
      "Current node in loop: D\n",
      "Reached a leaf node: H\n",
      "Current node in loop: E\n",
      "Reached or exceeded goal at node: I\n",
      "['A', 'B', 'E', 'I']\n"
     ]
    }
   ],
   "source": [
    "adj_dict = { \"A\":[\"B\",\"C\"], \"B\":[\"D\",\"E\"],  \"C\":[\"F\",\"G\"],  \"D\":[\"H\"], \"E\":[\"I\"], \"F\":[], \"G\":[], \"H\":[], \"I\":[]}\n",
    "node_val = {\"A\":25, \"B\":24, \"C\":30, \"D\":28, \"E\":29, \"F\":40, \"G\":35,\"H\":39, \"I\":51}\n",
    "goal = 40\n",
    "\n",
    "def hillclimb(adj_dict, node_val, current, goal, path=None):\n",
    "    if path is None:\n",
    "        path = []\n",
    "\n",
    "    path.append(current)\n",
    "\n",
    "    if node_val[current] >= goal:\n",
    "        print(\"Reached or exceeded goal at node:\", current)\n",
    "        return path\n",
    "    elif adj_dict[current] == []:\n",
    "        print(\"Reached a leaf node:\", current)\n",
    "        return None\n",
    "    else:\n",
    "        print(\"Current node in loop:\", current)\n",
    "        for neighbor in adj_dict[current]:\n",
    "            result = hillclimb(adj_dict, node_val, neighbor, goal, path.copy())\n",
    "            if result:\n",
    "                return result\n",
    "\n",
    "print(hillclimb(adj_dict, node_val, \"A\", goal))"
   ]
  }
 ],
 "metadata": {
  "kernelspec": {
   "display_name": "Python 3",
   "language": "python",
   "name": "python3"
  },
  "language_info": {
   "codemirror_mode": {
    "name": "ipython",
    "version": 3
   },
   "file_extension": ".py",
   "mimetype": "text/x-python",
   "name": "python",
   "nbconvert_exporter": "python",
   "pygments_lexer": "ipython3",
   "version": "3.10.12"
  }
 },
 "nbformat": 4,
 "nbformat_minor": 2
}

{
 "cells": [
  {
   "cell_type": "markdown",
   "metadata": {},
   "source": [
    "**Linked List**"
   ]
  },
  {
   "cell_type": "code",
   "execution_count": 3,
   "metadata": {},
   "outputs": [
    {
     "name": "stdout",
     "output_type": "stream",
     "text": [
      "1\n",
      "3\n"
     ]
    }
   ],
   "source": [
    "class Linkedlist:\n",
    "    def __init__(self, data):\n",
    "        self.data = data\n",
    "        self.next = None\n",
    "\n",
    "    def append(self, data):\n",
    "        if self.next is None:\n",
    "            self.next = Linkedlist(data)\n",
    "        else:\n",
    "            self.next.append(data)\n",
    "    \n",
    "    def delete(self, data):\n",
    "        if self.data == data:\n",
    "            return self.next\n",
    "        else:\n",
    "            self.next = self.next.delete(data)\n",
    "            return self\n",
    "    \n",
    "    def print_list(self):\n",
    "        print(self.data)\n",
    "        if self.next is not None:\n",
    "            self.next.print_list()\n",
    "\n",
    "    \n",
    "c1 = Linkedlist(1) \n",
    "c1.append(2)\n",
    "c1.append(3)\n",
    "c1.delete(2)\n",
    "c1.print_list()"
   ]
  },
  {
   "cell_type": "markdown",
   "metadata": {},
   "source": [
    "**Binary Tree**"
   ]
  },
  {
   "cell_type": "code",
   "execution_count": 4,
   "metadata": {},
   "outputs": [],
   "source": [
    "class Binary_Node:\n",
    "    def __init__(self, data):\n",
    "        self.data = data\n",
    "        self.left = None\n",
    "        self.right = None\n",
    "        self.parent = None\n",
    "\n",
    "    def subtree_iter(self):\n",
    "        if self.left:\n",
    "            yield from self.left.subtree_iter()\n",
    "        yield self.data\n",
    "        if self.right:\n",
    "            yield from self.right.subtree_iter()\n",
    "\n",
    "    def subtree_first(self):\n",
    "        if self.left:\n",
    "            return self.left.subtree_first()\n",
    "        else:\n",
    "            return self\n",
    "        \n",
    "    def subtree_last(self):\n",
    "        if self.right:\n",
    "            return self.right.subtree_last()\n",
    "        else:\n",
    "            return self\n",
    "        \n",
    "    def successor(self):\n",
    "        if self.right:\n",
    "            return self.right.subtree_first()\n",
    "        while self.parent and self.parent.right is self:\n",
    "            self = self.parent\n",
    "        return self.parent\n",
    "    \n",
    "    def predecessor(self):\n",
    "        if self.left:\n",
    "            return self.left.subtree_last()\n",
    "        while self.parent and self.parent.left is self:\n",
    "            self = self.parent\n",
    "        return self.parent\n",
    "    \n",
    "    def subtree_insert_before(self, B):\n",
    "        if self.left:\n",
    "            self = self.left.subtree_last()\n",
    "            self.right, B.parent = B, self\n",
    "        else:\n",
    "            self.left, B.parent = B, self\n",
    "\n",
    "    def subtree_insert_after(self, B):\n",
    "        if self.right:\n",
    "            self = self.right.subtree_first()\n",
    "            self.left, B.parent = B, self\n",
    "        else:\n",
    "            self.right, B.parent = B, self\n",
    "\n",
    "    def subtree_delete(self):\n",
    "        if self.left or self.right:\n",
    "            if self.left:\n",
    "                B = self.predecessor\n",
    "            else:\n",
    "                B = self.successor\n",
    "            self.data, B.data = B.data, self.data\n",
    "            return B.subtree_delete()\n",
    "        if self.parent:\n",
    "            if self.parent.left is self:\n",
    "                self.parent.left = None\n",
    "            else:\n",
    "                self.parent.right = None\n",
    "        return self\n",
    "    \n",
    "class Binary_Tree:\n",
    "    def __init__(self, Node_Type=Binary_Node):\n",
    "        self.root = None\n",
    "        self.size = 0\n",
    "        self.Node_Type = Node_Type\n",
    "\n",
    "    def __len__(self):\n",
    "        return self.size\n",
    "    \n",
    "    def __iter__(self):\n",
    "        if self.root:\n",
    "            for self in self.root.subtree_iter():\n",
    "                yield self.data\n"
   ]
  },
  {
   "cell_type": "markdown",
   "metadata": {},
   "source": [
    "not complete"
   ]
  },
  {
   "cell_type": "markdown",
   "metadata": {},
   "source": []
  }
 ],
 "metadata": {
  "kernelspec": {
   "display_name": ".env",
   "language": "python",
   "name": "python3"
  },
  "language_info": {
   "codemirror_mode": {
    "name": "ipython",
    "version": 3
   },
   "file_extension": ".py",
   "mimetype": "text/x-python",
   "name": "python",
   "nbconvert_exporter": "python",
   "pygments_lexer": "ipython3",
   "version": "3.10.12"
  }
 },
 "nbformat": 4,
 "nbformat_minor": 2
}
